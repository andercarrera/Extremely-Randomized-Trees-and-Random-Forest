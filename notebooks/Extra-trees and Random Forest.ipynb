{
 "cells": [
  {
   "cell_type": "code",
   "execution_count": 238,
   "metadata": {
    "pycharm": {
     "name": "#%%\n"
    }
   },
   "outputs": [],
   "source": [
    "\n",
    "###############################################################################\n",
    "#                          1. Importing Libraries                             #\n",
    "###############################################################################\n",
    "\n",
    "import numpy as np\n",
    "# The usual stuff\n",
    "import pandas as pd\n",
    "# To measure performance\n",
    "from sklearn import metrics\n",
    "# Iris dataset\n",
    "from sklearn.datasets import load_iris\n",
    "from sklearn.ensemble import BaggingClassifier\n",
    "from sklearn.ensemble import ExtraTreesClassifier\n",
    "# Data preprocessing and machine learning\n",
    "from sklearn.model_selection import train_test_split\n",
    "from sklearn.tree import DecisionTreeClassifier"
   ]
  },
  {
   "cell_type": "code",
   "execution_count": 239,
   "metadata": {
    "pycharm": {
     "name": "#%%\n"
    }
   },
   "outputs": [
    {
     "name": "stdout",
     "output_type": "stream",
     "text": [
      "The accuracy of the stump is 55.0 %\n",
      "The accuracy of the ensemble is 55.0 %\n"
     ]
    }
   ],
   "source": [
    "###############################################################################\n",
    "#                 2. Stump vs Ensemble of 1000 Decision Stumps                #\n",
    "###############################################################################\n",
    "\n",
    "# Load data and store it into pandas DataFrame objects\n",
    "iris = load_iris()\n",
    "X = pd.DataFrame(iris.data[:, :], columns=iris.feature_names[:])\n",
    "y = pd.DataFrame(iris.target, columns=[\"Species\"])\n",
    "\n",
    "# Splitting Dataset\n",
    "X_train, X_test, y_train, y_test = train_test_split(X, y, test_size=20, random_state=100)\n",
    "\n",
    "# Defining the stump\n",
    "stump = DecisionTreeClassifier(max_depth=1)\n",
    "\n",
    "# Creating an ensemble\n",
    "ensemble = BaggingClassifier(base_estimator=stump, n_estimators=1000,\n",
    "                             bootstrap=False)\n",
    "\n",
    "# Training classifiers\n",
    "stump.fit(X_train, np.ravel(y_train))\n",
    "ensemble.fit(X_train, np.ravel(y_train))\n",
    "\n",
    "# Making predictions\n",
    "y_pred_stump = stump.predict(X_test)\n",
    "y_pred_ensemble = ensemble.predict(X_test)\n",
    "\n",
    "# Determine performance\n",
    "stump_accuracy = metrics.accuracy_score(y_test, y_pred_stump)\n",
    "ensemble_accuracy = metrics.accuracy_score(y_test, y_pred_ensemble)\n",
    "\n",
    "# Print message to user\n",
    "print(f\"The accuracy of the stump is {stump_accuracy * 100:.1f} %\")\n",
    "print(f\"The accuracy of the ensemble is {ensemble_accuracy * 100:.1f} %\")"
   ]
  },
  {
   "cell_type": "code",
   "execution_count": 240,
   "metadata": {
    "pycharm": {
     "name": "#%%\n"
    }
   },
   "outputs": [
    {
     "name": "stdout",
     "output_type": "stream",
     "text": [
      "The accuracy of the stump is 55.0 %\n",
      "The accuracy of the Random Forest is 60.0 %\n"
     ]
    }
   ],
   "source": [
    "from sklearn.ensemble import RandomForestClassifier\n",
    "\n",
    "###############################################################################\n",
    "#                          3. Stump vs Random Forest                          #\n",
    "###############################################################################\n",
    "\n",
    "# Defining the stump\n",
    "stump = DecisionTreeClassifier(max_depth=1, splitter=\"best\", max_features=\"sqrt\")\n",
    "\n",
    "# Create Random Forest\n",
    "ensemble = RandomForestClassifier(max_depth=1, bootstrap=True)\n",
    "\n",
    "# Training classifiers\n",
    "stump.fit(X_train, np.ravel(y_train))\n",
    "ensemble.fit(X_train, np.ravel(y_train))\n",
    "\n",
    "# Making predictions\n",
    "y_pred_tree = stump.predict(X_test)\n",
    "y_pred_ensemble = ensemble.predict(X_test)\n",
    "\n",
    "# Determine performance\n",
    "stump_accuracy = metrics.accuracy_score(y_test, y_pred_stump)\n",
    "ensemble_accuracy = metrics.accuracy_score(y_test, y_pred_ensemble)\n",
    "\n",
    "# Print message to user\n",
    "print(f\"The accuracy of the stump is {stump_accuracy * 100:.1f} %\")\n",
    "print(f\"The accuracy of the Random Forest is {ensemble_accuracy * 100:.1f} %\")"
   ]
  },
  {
   "cell_type": "code",
   "execution_count": 241,
   "metadata": {
    "pycharm": {
     "name": "#%%\n"
    }
   },
   "outputs": [
    {
     "name": "stdout",
     "output_type": "stream",
     "text": [
      "The accuracy of the stump is 55.0 %\n",
      "The accuracy of the Extra Trees is 95.0 %\n"
     ]
    }
   ],
   "source": [
    "###############################################################################\n",
    "#                            4. Stump vs Extra Trees                          #\n",
    "###############################################################################\n",
    "\n",
    "# Defining the stump\n",
    "stump = DecisionTreeClassifier(max_depth=1, splitter=\"random\", max_features=\"sqrt\")\n",
    "\n",
    "#.values will give the values in an array. (shape: (n,1) / .ravel will convert that array shape to (n, ) / ref: https://stackoverflow.com/questions/34165731/a-column-vector-y-was-passed-when-a-1d-array-was-expected\n",
    "ensemble = ExtraTreesClassifier(max_depth=1, bootstrap=False)\n",
    "\n",
    "# Training classifiers\n",
    "stump.fit(X_train, np.ravel(y_train))\n",
    "ensemble.fit(X_train, np.ravel(y_train))\n",
    "\n",
    "# Making predictions\n",
    "y_pred_tree = stump.predict(X_test)\n",
    "y_pred_ensemble = ensemble.predict(X_test)\n",
    "\n",
    "# Determine performance\n",
    "stump_accuracy = metrics.accuracy_score(y_test, y_pred_stump)\n",
    "ensemble_accuracy = metrics.accuracy_score(y_test, y_pred_ensemble)\n",
    "\n",
    "# Print message to user\n",
    "print(f\"The accuracy of the stump is {stump_accuracy * 100:.1f} %\")\n",
    "print(f\"The accuracy of the Extra Trees is {ensemble_accuracy * 100:.1f} %\")"
   ]
  }
 ],
 "metadata": {
  "kernelspec": {
   "display_name": "Python 3 (ipykernel)",
   "language": "python",
   "name": "python3"
  },
  "language_info": {
   "codemirror_mode": {
    "name": "ipython",
    "version": 3
   },
   "file_extension": ".py",
   "mimetype": "text/x-python",
   "name": "python",
   "nbconvert_exporter": "python",
   "pygments_lexer": "ipython3",
   "version": "3.9.7"
  }
 },
 "nbformat": 4,
 "nbformat_minor": 1
}