{
 "cells": [
  {
   "cell_type": "code",
   "execution_count": 1,
   "metadata": {
    "pycharm": {
     "name": "#%%\n"
    }
   },
   "outputs": [],
   "source": [
    "\n",
    "###############################################################################\n",
    "#                          1. Importing Libraries                             #\n",
    "###############################################################################\n",
    "\n",
    "import numpy as np\n",
    "# The usual stuff\n",
    "import pandas as pd\n",
    "# To measure performance\n",
    "from sklearn import metrics\n",
    "# Iris dataset\n",
    "from sklearn.datasets import load_iris\n",
    "from sklearn.ensemble import BaggingClassifier\n",
    "from sklearn.ensemble import ExtraTreesClassifier\n",
    "# Data preprocessing and machine learning\n",
    "from sklearn.model_selection import train_test_split\n",
    "from sklearn.tree import DecisionTreeClassifier\n",
    "#Results\n",
    "from sklearn.metrics import confusion_matrix\n",
    "import matplotlib.pyplot as plt\n",
    "import seaborn as sns"
   ]
  },
  {
   "cell_type": "code",
   "execution_count": 2,
   "metadata": {},
   "outputs": [],
   "source": [
    "from sklearn.metrics import classification_report, accuracy_score\n",
    "\n",
    "\n",
    "def show_results(y_test, y_pred):\n",
    "    conf_matrix = confusion_matrix(y_test, y_pred)\n",
    "    plt.figure(figsize=(6, 6))\n",
    "    sns.heatmap(conf_matrix, annot=True, fmt=\"d\")\n",
    "    plt.title(\"Confusion matrix\")\n",
    "    plt.ylabel('True class')\n",
    "    plt.xlabel('Predicted class')\n",
    "    plt.show()\n",
    "    print ('Accuracy: {}%'.format(accuracy_score(y_test, y_pred)*100))\n",
    "    print (classification_report(y_test, y_pred, zero_division=0))"
   ]
  },
  {
   "cell_type": "code",
   "execution_count": 3,
   "metadata": {
    "pycharm": {
     "name": "#%%\n"
    }
   },
   "outputs": [
    {
     "data": {
      "image/png": "[encoded data removed]",
      "text/plain": [
       "<Figure size 432x432 with 2 Axes>"
      ]
     },
     "metadata": {
      "needs_background": "light"
     },
     "output_type": "display_data"
    },
    {
     "name": "stdout",
     "output_type": "stream",
     "text": [
      "Accuracy: 55.00000000000001%\n",
      "              precision    recall  f1-score   support\n",
      "\n",
      "           0       1.00      1.00      1.00         8\n",
      "           1       0.25      1.00      0.40         3\n",
      "           2       0.00      0.00      0.00         9\n",
      "\n",
      "    accuracy                           0.55        20\n",
      "   macro avg       0.42      0.67      0.47        20\n",
      "weighted avg       0.44      0.55      0.46        20\n",
      "\n"
     ]
    },
    {
     "data": {
      "image/png": "[encoded data removed]",
      "text/plain": [
       "<Figure size 432x432 with 2 Axes>"
      ]
     },
     "metadata": {
      "needs_background": "light"
     },
     "output_type": "display_data"
    },
    {
     "name": "stdout",
     "output_type": "stream",
     "text": [
      "Accuracy: 55.00000000000001%\n",
      "              precision    recall  f1-score   support\n",
      "\n",
      "           0       1.00      1.00      1.00         8\n",
      "           1       0.25      1.00      0.40         3\n",
      "           2       0.00      0.00      0.00         9\n",
      "\n",
      "    accuracy                           0.55        20\n",
      "   macro avg       0.42      0.67      0.47        20\n",
      "weighted avg       0.44      0.55      0.46        20\n",
      "\n"
     ]
    }
   ],
   "source": [
    "###############################################################################\n",
    "#                 2. Stump vs Ensemble of 1000 Decision Stumps                #\n",
    "###############################################################################\n",
    "\n",
    "# Load data and store it into pandas DataFrame objects\n",
    "iris = load_iris()\n",
    "X = pd.DataFrame(iris.data[:, :], columns=iris.feature_names[:])\n",
    "y = pd.DataFrame(iris.target, columns=[\"Species\"])\n",
    "\n",
    "# Splitting Dataset\n",
    "X_train, X_test, y_train, y_test = train_test_split(X, y, test_size=20, random_state=100)\n",
    "\n",
    "# Defining the stump\n",
    "stump = DecisionTreeClassifier(max_depth=1)\n",
    "\n",
    "# Creating an ensemble\n",
    "ensemble = BaggingClassifier(base_estimator=stump, n_estimators=1000,\n",
    "                             bootstrap=False)\n",
    "\n",
    "# Training classifiers\n",
    "stump.fit(X_train, np.ravel(y_train))\n",
    "ensemble.fit(X_train, np.ravel(y_train))\n",
    "\n",
    "# Making predictions\n",
    "y_pred_stump = stump.predict(X_test)\n",
    "y_pred_ensemble = ensemble.predict(X_test)\n",
    "\n",
    "# Determine performance\n",
    "show_results(y_test, y_pred_stump)\n",
    "show_results(y_test, y_pred_ensemble)\n"
   ]
  },
  {
   "cell_type": "code",
   "execution_count": 19,
   "metadata": {
    "pycharm": {
     "name": "#%%\n"
    }
   },
   "outputs": [
    {
     "data": {
      "image/png": "[encoded data removed]",
      "text/plain": [
       "<Figure size 432x432 with 2 Axes>"
      ]
     },
     "metadata": {
      "needs_background": "light"
     },
     "output_type": "display_data"
    },
    {
     "name": "stdout",
     "output_type": "stream",
     "text": [
      "Accuracy: 90.0%\n",
      "              precision    recall  f1-score   support\n",
      "\n",
      "           0       1.00      1.00      1.00         8\n",
      "           1       0.67      0.67      0.67         3\n",
      "           2       0.89      0.89      0.89         9\n",
      "\n",
      "    accuracy                           0.90        20\n",
      "   macro avg       0.85      0.85      0.85        20\n",
      "weighted avg       0.90      0.90      0.90        20\n",
      "\n"
     ]
    }
   ],
   "source": [
    "from sklearn.ensemble import RandomForestClassifier\n",
    "\n",
    "###############################################################################\n",
    "#                          3. Random Forest                          #\n",
    "###############################################################################\n",
    "\n",
    "# Create Random Forest\n",
    "ensemble = RandomForestClassifier(n_estimators=1, max_depth=2, bootstrap=True)\n",
    "\n",
    "# Training classifiers\n",
    "ensemble.fit(X_train, np.ravel(y_train))\n",
    "\n",
    "# Making predictions\n",
    "y_pred_ensemble = ensemble.predict(X_test)\n",
    "\n",
    "# Determine performance\n",
    "show_results(y_test, y_pred_ensemble)"
   ]
  },
  {
   "cell_type": "code",
   "execution_count": 16,
   "metadata": {},
   "outputs": [
    {
     "data": {
      "image/png": "[encoded data removed]",
      "text/plain": [
       "<Figure size 432x432 with 2 Axes>"
      ]
     },
     "metadata": {
      "needs_background": "light"
     },
     "output_type": "display_data"
    },
    {
     "name": "stdout",
     "output_type": "stream",
     "text": [
      "Accuracy: 95.0%\n",
      "              precision    recall  f1-score   support\n",
      "\n",
      "           0       1.00      1.00      1.00         8\n",
      "           1       1.00      0.67      0.80         3\n",
      "           2       0.90      1.00      0.95         9\n",
      "\n",
      "    accuracy                           0.95        20\n",
      "   macro avg       0.97      0.89      0.92        20\n",
      "weighted avg       0.96      0.95      0.95        20\n",
      "\n"
     ]
    }
   ],
   "source": [
    "from sklearn.ensemble import RandomForestClassifier\n",
    "\n",
    "###############################################################################\n",
    "#                          3. Random Forest                          #\n",
    "###############################################################################\n",
    "\n",
    "\n",
    "# Create Random Forest\n",
    "ensemble = RandomForestClassifier(n_estimators=1000, max_depth=10, bootstrap=True)\n",
    "\n",
    "# Training classifiers\n",
    "ensemble.fit(X_train, np.ravel(y_train))\n",
    "\n",
    "# Making predictions\n",
    "y_pred_ensemble = ensemble.predict(X_test)\n",
    "\n",
    "# Determine performance\n",
    "show_results(y_test, y_pred_ensemble)"
   ]
  },
  {
   "cell_type": "code",
   "execution_count": 15,
   "metadata": {
    "pycharm": {
     "name": "#%%\n"
    }
   },
   "outputs": [
    {
     "data": {
      "image/png": "[encoded data removed]",
      "text/plain": [
       "<Figure size 432x432 with 2 Axes>"
      ]
     },
     "metadata": {
      "needs_background": "light"
     },
     "output_type": "display_data"
    },
    {
     "name": "stdout",
     "output_type": "stream",
     "text": [
      "Accuracy: 85.0%\n",
      "              precision    recall  f1-score   support\n",
      "\n",
      "           0       0.80      1.00      0.89         8\n",
      "           1       0.00      0.00      0.00         3\n",
      "           2       0.90      1.00      0.95         9\n",
      "\n",
      "    accuracy                           0.85        20\n",
      "   macro avg       0.57      0.67      0.61        20\n",
      "weighted avg       0.72      0.85      0.78        20\n",
      "\n"
     ]
    }
   ],
   "source": [
    "###############################################################################\n",
    "#                            4. Extra Trees                          #\n",
    "###############################################################################\n",
    "\n",
    "\n",
    "#.values will give the values in an array. (shape: (n,1) / .ravel will convert that array shape to (n, ) / ref: https://stackoverflow.com/questions/34165731/a-column-vector-y-was-passed-when-a-1d-array-was-expected\n",
    "ensemble = ExtraTreesClassifier(n_estimators=1, max_depth=1 ,bootstrap=False) #ET has no bootstrap\n",
    "\n",
    "# Training classifiers\n",
    "ensemble.fit(X_train, np.ravel(y_train))\n",
    "\n",
    "# Making predictions\n",
    "y_pred_ensemble = ensemble.predict(X_test)\n",
    "\n",
    "# Determine performance\n",
    "show_results(y_test, y_pred_ensemble)"
   ]
  },
  {
   "cell_type": "code",
   "execution_count": 13,
   "metadata": {},
   "outputs": [
    {
     "data": {
      "image/png": "[encoded data removed]",
      "text/plain": [
       "<Figure size 432x432 with 2 Axes>"
      ]
     },
     "metadata": {
      "needs_background": "light"
     },
     "output_type": "display_data"
    },
    {
     "name": "stdout",
     "output_type": "stream",
     "text": [
      "Accuracy: 95.0%\n",
      "              precision    recall  f1-score   support\n",
      "\n",
      "           0       1.00      1.00      1.00         8\n",
      "           1       1.00      0.67      0.80         3\n",
      "           2       0.90      1.00      0.95         9\n",
      "\n",
      "    accuracy                           0.95        20\n",
      "   macro avg       0.97      0.89      0.92        20\n",
      "weighted avg       0.96      0.95      0.95        20\n",
      "\n"
     ]
    }
   ],
   "source": [
    "###############################################################################\n",
    "#                            4. Extra Trees                          #\n",
    "###############################################################################\n",
    "\n",
    "#.values will give the values in an array. (shape: (n,1) / .ravel will convert that array shape to (n, ) / ref: https://stackoverflow.com/questions/34165731/a-column-vector-y-was-passed-when-a-1d-array-was-expected\n",
    "ensemble = ExtraTreesClassifier(n_estimators=1000, max_depth=10, bootstrap=False) #ET has no bootstrap\n",
    "\n",
    "# Training classifiers\n",
    "ensemble.fit(X_train, np.ravel(y_train))\n",
    "\n",
    "# Making predictions\n",
    "y_pred_ensemble = ensemble.predict(X_test)\n",
    "\n",
    "# Determine performance\n",
    "show_results(y_test, y_pred_ensemble)"
   ]
  }
 ],
 "metadata": {
  "kernelspec": {
   "display_name": "Python 3 (ipykernel)",
   "language": "python",
   "name": "python3"
  },
  "language_info": {
   "codemirror_mode": {
    "name": "ipython",
    "version": 3
   },
   "file_extension": ".py",
   "mimetype": "text/x-python",
   "name": "python",
   "nbconvert_exporter": "python",
   "pygments_lexer": "ipython3",
   "version": "3.9.7"
  }
 },
 "nbformat": 4,
 "nbformat_minor": 1
}